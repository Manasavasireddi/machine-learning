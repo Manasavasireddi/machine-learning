{
  "cells": [
    {
      "cell_type": "markdown",
      "metadata": {
        "id": "view-in-github",
        "colab_type": "text"
      },
      "source": [
        "<a href=\"https://colab.research.google.com/github/Manasavasireddi/Login_Form/blob/main/Welcome_To_Colab.ipynb\" target=\"_parent\"><img src=\"https://colab.research.google.com/assets/colab-badge.svg\" alt=\"Open In Colab\"/></a>"
      ]
    },
    {
      "cell_type": "code",
      "source": [],
      "metadata": {
        "id": "0NQ_SNdmDUh8"
      },
      "execution_count": null,
      "outputs": []
    },
    {
      "cell_type": "code",
      "source": [
        "import numpy as np\n",
        "arr = np.array([1, 2, 3, 4, 5])\n",
        "print(arr)"
      ],
      "metadata": {
        "id": "M-u87c7_B_6S",
        "outputId": "c1697646-c580-4b48-9ed7-ad1cb0ecf291",
        "colab": {
          "base_uri": "https://localhost:8080/"
        }
      },
      "execution_count": 3,
      "outputs": [
        {
          "output_type": "stream",
          "name": "stdout",
          "text": [
            "[1 2 3 4 5]\n"
          ]
        }
      ]
    },
    {
      "cell_type": "code",
      "source": [
        "\n",
        "arr_squared = arr**2\n",
        "print(arr_squared)\n"
      ],
      "metadata": {
        "id": "spLfKY-4DXsb",
        "outputId": "dd60aba8-243f-438f-dd74-6deb1b251e61",
        "colab": {
          "base_uri": "https://localhost:8080/"
        }
      },
      "execution_count": 4,
      "outputs": [
        {
          "output_type": "stream",
          "name": "stdout",
          "text": [
            "[ 1  4  9 16 25]\n"
          ]
        }
      ]
    },
    {
      "cell_type": "code",
      "source": [
        "\n",
        "arr_added = arr + 5\n",
        "print(arr_added)\n"
      ],
      "metadata": {
        "id": "QU6rB6LjDgF7",
        "outputId": "bd0db75b-8551-40e0-a8ea-0f0116bb45fc",
        "colab": {
          "base_uri": "https://localhost:8080/"
        }
      },
      "execution_count": 6,
      "outputs": [
        {
          "output_type": "stream",
          "name": "stdout",
          "text": [
            "[ 6  7  8  9 10]\n"
          ]
        }
      ]
    },
    {
      "cell_type": "code",
      "source": [
        "\n",
        "matrix1 = np.array([[1, 2], [3, 4]])\n",
        "matrix2 = np.array([[5, 6], [7, 8]])\n",
        "result_matrix = np.dot(matrix1, matrix2)\n",
        "print(result_matrix)"
      ],
      "metadata": {
        "id": "dCZssaFlDpiz",
        "outputId": "bee60c26-c50c-46d5-b5c3-9af4a8d22811",
        "colab": {
          "base_uri": "https://localhost:8080/"
        }
      },
      "execution_count": 7,
      "outputs": [
        {
          "output_type": "stream",
          "name": "stdout",
          "text": [
            "[[19 22]\n",
            " [43 50]]\n"
          ]
        }
      ]
    },
    {
      "cell_type": "code",
      "source": [
        "\n",
        "from scipy.integrate import quad\n",
        "def f(x):\n",
        "    return x**2\n",
        "result, error = quad(f, 0, 1)\n",
        "\n",
        "print(\"Result of integration:\", result)\n",
        "print(\"Estimated error:\", error)"
      ],
      "metadata": {
        "id": "FCry3U-9Dtab",
        "outputId": "07413a0d-a3f5-4ca0-be0b-a0fb4049675e",
        "colab": {
          "base_uri": "https://localhost:8080/"
        }
      },
      "execution_count": 8,
      "outputs": [
        {
          "output_type": "stream",
          "name": "stdout",
          "text": [
            "Result of integration: 0.33333333333333337\n",
            "Estimated error: 3.700743415417189e-15\n"
          ]
        }
      ]
    }
  ],
  "metadata": {
    "colab": {
      "name": "Welcome To Colab",
      "toc_visible": true,
      "provenance": [],
      "include_colab_link": true
    },
    "kernelspec": {
      "display_name": "Python 3",
      "name": "python3"
    }
  },
  "nbformat": 4,
  "nbformat_minor": 0
}
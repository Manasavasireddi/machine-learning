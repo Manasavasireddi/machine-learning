{
 "cells": [
  {
   "cell_type": "markdown",
   "id": "67390573-764d-4ba1-b2b6-7d595291899b",
   "metadata": {},
   "source": [
    "## NumPy (Numerical Python)\n",
    "\n",
    "NumPy provides powerful tools for working with arrays (n-dimensional arrays, also known as ndarrays).  These arrays are much more efficient than standard Python lists for numerical operations, especially when dealing with large datasets.\n",
    "\n",
    "Key Features:\n",
    "\n",
    "ndarray: The core object is the homogeneous n-dimensional array. Homogeneous means all elements are of the same data type (e.g., all integers, all floats). This allows for optimized storage and calculations.\n",
    "Vectorized Operations: NumPy allows you to perform operations on entire arrays at once, without explicit loops. This \"vectorization\" significantly speeds up computations.\n",
    "Broadcasting: NumPy's broadcasting rules allow arithmetic operations between arrays of different shapes (under certain compatibility conditions), making code more concise and efficient.\n",
    "Linear Algebra: NumPy provides functions for matrix multiplication, inversion, eigenvalues, eigenvectors, and other linear algebra operations.\n",
    "Fourier Transforms: NumPy includes functions for computing fast Fourier transforms (FFTs).\n",
    "Random Number Generation: NumPy provides tools for generating various kinds of random numbers. "
   ]
  },
  {
   "cell_type": "code",
   "execution_count": 1,
   "id": "2ad2498e-015c-4b55-9567-44d6b257f932",
   "metadata": {},
   "outputs": [
    {
     "name": "stdout",
     "output_type": "stream",
     "text": [
      "[1 2 3 4 5]\n",
      "[ 1  4  9 16 25]\n",
      "[ 6  7  8  9 10]\n",
      "[[19 22]\n",
      " [43 50]]\n"
     ]
    }
   ],
   "source": [
    "import numpy as np\n",
    "\n",
    "# Create a NumPy array\n",
    "arr = np.array([1, 2, 3, 4, 5])\n",
    "\n",
    "# Perform vectorized operations\n",
    "arr_squared = arr**2  # Square each element\n",
    "arr_added = arr + 5     # Add 5 to each element\n",
    "\n",
    "# Matrix multiplication\n",
    "matrix1 = np.array([[1, 2], [3, 4]])\n",
    "matrix2 = np.array([[5, 6], [7, 8]])\n",
    "result_matrix = np.dot(matrix1, matrix2)\n",
    "\n",
    "print(arr)\n",
    "print(arr_squared)\n",
    "print(arr_added)\n",
    "print(result_matrix)"
   ]
  },
  {
   "cell_type": "markdown",
   "id": "16239904-42bb-488e-a2ab-697b2df5d431",
   "metadata": {},
   "source": [
    "## When to use NumPy:\n",
    "Numerical computations involving arrays or matrices.\n",
    "Scientific computing and data analysis.\n",
    "Image processing (images are represented as arrays).\n",
    "Machine learning (many algorithms rely on NumPy).\n",
    "SciPy (Scientific Python)\n",
    "\n",
    "SciPy builds upon NumPy and provides a wide range of scientific computing tools.  It's organized into sub-modules, each focusing on a specific area.\n",
    "\n",
    "## Key Sub-modules:\n",
    "\n",
    "scipy.integrate: Numerical integration and solving differential equations.\n",
    "scipy.optimize: Optimization algorithms (finding minima, roots, etc.).\n",
    "scipy.linalg: More advanced linear algebra tools than NumPy.\n",
    "scipy.signal: Signal processing tools.\n",
    "scipy.stats: Statistical functions and distributions.\n",
    "scipy.fftpack: Fast Fourier transforms (similar to NumPy's, but sometimes with more specialized functions).\n",
    "scipy.interpolate: Interpolation tools.\n",
    "scipy.io: Input/output for various file formats (e.g., MATLAB files).\n",
    "scipy.sparse: Working with sparse matrices (matrices with many zero elements).\n",
    "scipy.spatial: Spatial data structures and algorithms (e.g., k-d trees, nearest neighbors).\n",
    "scipy.special: Special functions (e.g., Bessel functions, gamma function)."
   ]
  },
  {
   "cell_type": "code",
   "execution_count": 1,
   "id": "5232be98-af6c-4d45-a4f2-8385799151e6",
   "metadata": {},
   "outputs": [
    {
     "name": "stdout",
     "output_type": "stream",
     "text": [
      "Result of integration: 0.33333333333333337\n",
      "Estimated error: 3.700743415417189e-15\n"
     ]
    }
   ],
   "source": [
    "##Example (using scipy.integrate):\n",
    "import numpy as np\n",
    "from scipy.integrate import quad\n",
    "\n",
    "# Define a function to integrate\n",
    "def f(x):\n",
    "    return x**2\n",
    "\n",
    "# Integrate f(x) from 0 to 1\n",
    "result, error = quad(f, 0, 1)\n",
    "\n",
    "print(\"Result of integration:\", result)\n",
    "print(\"Estimated error:\", error)"
   ]
  }
 ],
 "metadata": {
  "kernelspec": {
   "display_name": "Python 3 (ipykernel)",
   "language": "python",
   "name": "python3"
  },
  "language_info": {
   "codemirror_mode": {
    "name": "ipython",
    "version": 3
   },
   "file_extension": ".py",
   "mimetype": "text/x-python",
   "name": "python",
   "nbconvert_exporter": "python",
   "pygments_lexer": "ipython3",
   "version": "3.12.4"
  }
 },
 "nbformat": 4,
 "nbformat_minor": 5
}
